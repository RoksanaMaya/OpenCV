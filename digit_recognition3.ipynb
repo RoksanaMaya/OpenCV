{
  "cells": [
    {
      "cell_type": "markdown",
      "metadata": {
        "id": "view-in-github",
        "colab_type": "text"
      },
      "source": [
        "<a href=\"https://colab.research.google.com/github/RoksanaMaya/OpenCV/blob/main/digit_recognition3.ipynb\" target=\"_parent\"><img src=\"https://colab.research.google.com/assets/colab-badge.svg\" alt=\"Open In Colab\"/></a>"
      ]
    },
    {
      "cell_type": "code",
      "execution_count": 15,
      "metadata": {
        "id": "drtpCty7zEQf"
      },
      "outputs": [],
      "source": [
        "import cv2\n",
        "import numpy as np\n",
        "import os\n",
        "from matplotlib import pyplot as plt\n",
        "%matplotlib inline"
      ]
    },
    {
      "cell_type": "code",
      "source": [
        "path='/content/drive/MyDrive/Colab Notebooks/OpenCV/'"
      ],
      "metadata": {
        "id": "svTIHiG40UT0"
      },
      "execution_count": 16,
      "outputs": []
    },
    {
      "cell_type": "code",
      "execution_count": 17,
      "metadata": {
        "id": "lTmyzWzJzEQo"
      },
      "outputs": [],
      "source": [
        "def imread(path):\n",
        "    image = plt.imread(path, cv2.IMREAD_UNCHANGED)\n",
        "    return image"
      ]
    },
    {
      "cell_type": "code",
      "execution_count": 18,
      "metadata": {
        "id": "2f6vmx5szEQq"
      },
      "outputs": [],
      "source": [
        "def resize_image (image):\n",
        "    resize=cv2.resize(image,(1000,1000))\n",
        "    return resize"
      ]
    },
    {
      "cell_type": "markdown",
      "metadata": {
        "id": "6X4XG2iCzEQr"
      },
      "source": [
        "## Reading 0"
      ]
    },
    {
      "cell_type": "code",
      "execution_count": 12,
      "metadata": {
        "id": "1-ld_PSkzEQu"
      },
      "outputs": [],
      "source": []
    },
    {
      "cell_type": "code",
      "execution_count": 19,
      "metadata": {
        "colab": {
          "base_uri": "https://localhost:8080/"
        },
        "id": "YubSgs2CzEQv",
        "outputId": "c3b9f7f0-8e1b-4656-de6c-21e2e6d05764"
      },
      "outputs": [
        {
          "output_type": "execute_result",
          "data": {
            "text/plain": [
              "((1200, 1200), (1000, 1000))"
            ]
          },
          "metadata": {},
          "execution_count": 19
        }
      ],
      "source": [
        "\n",
        "image=cv2.imread(path+\"0.png\",0)\n",
        "resize=resize_image (image)\n",
        "image.shape, resize.shape"
      ]
    },
    {
      "cell_type": "code",
      "source": [
        "from google.colab import drive\n",
        "drive.mount('/content/drive')"
      ],
      "metadata": {
        "id": "fSRZd7d6znuP"
      },
      "execution_count": null,
      "outputs": []
    },
    {
      "cell_type": "code",
      "execution_count": 20,
      "metadata": {
        "colab": {
          "base_uri": "https://localhost:8080/"
        },
        "id": "Mqnx7sJVzEQx",
        "outputId": "b971a68c-c42a-4f2e-9688-214534f71c41"
      },
      "outputs": [
        {
          "output_type": "stream",
          "name": "stdout",
          "text": [
            "[[0 0 0 ... 0 0 0]\n",
            " [0 0 0 ... 0 0 0]\n",
            " [0 0 0 ... 0 0 0]\n",
            " ...\n",
            " [0 0 0 ... 0 0 0]\n",
            " [0 0 0 ... 0 0 0]\n",
            " [0 0 0 ... 0 0 0]]\n"
          ]
        }
      ],
      "source": [
        "print(np.array(image))"
      ]
    },
    {
      "cell_type": "code",
      "execution_count": 21,
      "metadata": {
        "colab": {
          "base_uri": "https://localhost:8080/"
        },
        "id": "vaz5V9SezEQz",
        "outputId": "cf431b49-3da4-4f0d-e3c3-45d2f514e037"
      },
      "outputs": [
        {
          "output_type": "stream",
          "name": "stdout",
          "text": [
            "[[0 0 0 ... 0 0 0]\n",
            " [0 0 0 ... 0 0 0]\n",
            " [0 0 0 ... 0 0 0]\n",
            " ...\n",
            " [0 0 0 ... 0 0 0]\n",
            " [0 0 0 ... 0 0 0]\n",
            " [0 0 0 ... 0 0 0]]\n"
          ]
        }
      ],
      "source": [
        "print(np.array(resize))"
      ]
    },
    {
      "cell_type": "code",
      "execution_count": null,
      "metadata": {
        "id": "6LnTxCqezEQ0"
      },
      "outputs": [],
      "source": []
    },
    {
      "cell_type": "markdown",
      "metadata": {
        "id": "lQCqIbZczEQ0"
      },
      "source": [
        "## Reading 1\n"
      ]
    },
    {
      "cell_type": "code",
      "execution_count": 22,
      "metadata": {
        "colab": {
          "base_uri": "https://localhost:8080/"
        },
        "id": "wE_l1ELHzEQ1",
        "outputId": "5bf149ae-22a2-40c1-897d-ebaa1c9ca194"
      },
      "outputs": [
        {
          "output_type": "execute_result",
          "data": {
            "text/plain": [
              "((360, 360), (1000, 1000))"
            ]
          },
          "metadata": {},
          "execution_count": 22
        }
      ],
      "source": [
        "image=cv2.imread(path+\"1.png\",0)\n",
        "resize=resize_image (image)\n",
        "#grayscale_image = cv2.cvtColor(resize, cv2.COLOR_BGR2GRAY)\n",
        "image.shape, resize.shape"
      ]
    },
    {
      "cell_type": "code",
      "execution_count": 23,
      "metadata": {
        "colab": {
          "base_uri": "https://localhost:8080/"
        },
        "id": "xRy-98e8zEQ2",
        "outputId": "f1995e20-a81a-4805-b6d6-43020e8eb42a"
      },
      "outputs": [
        {
          "output_type": "stream",
          "name": "stdout",
          "text": [
            "[[255 255 255 ... 238 238 238]\n",
            " [255 255 255 ... 238 238 238]\n",
            " [255 255 255 ... 238 238 238]\n",
            " ...\n",
            " [238 238 238 ... 255 255 255]\n",
            " [238 238 238 ... 255 255 255]\n",
            " [238 238 238 ... 255 255 255]]\n"
          ]
        }
      ],
      "source": [
        "image1=np.array(image)\n",
        "print(image1)"
      ]
    },
    {
      "cell_type": "code",
      "execution_count": 24,
      "metadata": {
        "colab": {
          "base_uri": "https://localhost:8080/"
        },
        "id": "yFgoPL4rzEQ3",
        "outputId": "ba4732b0-35d0-49b9-fbf9-727ae026c880"
      },
      "outputs": [
        {
          "output_type": "stream",
          "name": "stdout",
          "text": [
            "[[255 255 255 ... 238 238 238]\n",
            " [255 255 255 ... 238 238 238]\n",
            " [255 255 255 ... 238 238 238]\n",
            " ...\n",
            " [238 238 238 ... 255 255 255]\n",
            " [238 238 238 ... 255 255 255]\n",
            " [238 238 238 ... 255 255 255]]\n"
          ]
        }
      ],
      "source": [
        "image1=np.array(resize)\n",
        "print(image1)"
      ]
    },
    {
      "cell_type": "code",
      "execution_count": 25,
      "metadata": {
        "colab": {
          "base_uri": "https://localhost:8080/"
        },
        "id": "0M0Khc43zEQ4",
        "outputId": "cf66666d-8465-4399-a388-6504a960a138"
      },
      "outputs": [
        {
          "output_type": "execute_result",
          "data": {
            "text/plain": [
              "((1200, 1200), (1000, 1000))"
            ]
          },
          "metadata": {},
          "execution_count": 25
        }
      ],
      "source": [
        "image=cv2.imread(path+\"0.png\",0)\n",
        "resize=resize_image (image)\n",
        "\n",
        "image.shape, resize.shape"
      ]
    },
    {
      "cell_type": "code",
      "execution_count": 26,
      "metadata": {
        "colab": {
          "base_uri": "https://localhost:8080/"
        },
        "id": "bOTONFdszEQ4",
        "outputId": "808cf25d-6f69-418f-bbc5-1261f355e1b3"
      },
      "outputs": [
        {
          "output_type": "stream",
          "name": "stdout",
          "text": [
            "[[0 0 0 ... 0 0 0]\n",
            " [0 0 0 ... 0 0 0]\n",
            " [0 0 0 ... 0 0 0]\n",
            " ...\n",
            " [0 0 0 ... 0 0 0]\n",
            " [0 0 0 ... 0 0 0]\n",
            " [0 0 0 ... 0 0 0]]\n"
          ]
        }
      ],
      "source": [
        "print(np.array(image))"
      ]
    },
    {
      "cell_type": "code",
      "execution_count": 27,
      "metadata": {
        "colab": {
          "base_uri": "https://localhost:8080/"
        },
        "id": "LIcRkHvPzEQ5",
        "outputId": "41c5cb9b-a067-445c-c2e2-db188dd3225b"
      },
      "outputs": [
        {
          "output_type": "stream",
          "name": "stdout",
          "text": [
            "[[0 0 0 ... 0 0 0]\n",
            " [0 0 0 ... 0 0 0]\n",
            " [0 0 0 ... 0 0 0]\n",
            " ...\n",
            " [0 0 0 ... 0 0 0]\n",
            " [0 0 0 ... 0 0 0]\n",
            " [0 0 0 ... 0 0 0]]\n"
          ]
        }
      ],
      "source": [
        "image1=np.array(resize)\n",
        "print(np.array(resize))"
      ]
    }
  ],
  "metadata": {
    "kernelspec": {
      "display_name": "Python 3",
      "language": "python",
      "name": "python3"
    },
    "language_info": {
      "codemirror_mode": {
        "name": "ipython",
        "version": 3
      },
      "file_extension": ".py",
      "mimetype": "text/x-python",
      "name": "python",
      "nbconvert_exporter": "python",
      "pygments_lexer": "ipython3",
      "version": "3.10.6"
    },
    "colab": {
      "provenance": [],
      "include_colab_link": true
    }
  },
  "nbformat": 4,
  "nbformat_minor": 0
}